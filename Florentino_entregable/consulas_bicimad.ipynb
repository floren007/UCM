{
 "cells": [
  {
   "cell_type": "code",
   "execution_count": 1,
   "metadata": {},
   "outputs": [
    {
     "ename": "ModuleNotFoundError",
     "evalue": "No module named 'urlemt'",
     "output_type": "error",
     "traceback": [
      "\u001b[1;31m---------------------------------------------------------------------------\u001b[0m",
      "\u001b[1;31mModuleNotFoundError\u001b[0m                       Traceback (most recent call last)",
      "\u001b[1;32mc:\\Users\\flore\\OneDrive\\Escritorio\\UCM\\trabajo_programacion_avanzada_florentino\\consulas_bicimad.ipynb Cell 1\u001b[0m line \u001b[0;36m2\n\u001b[0;32m      <a href='vscode-notebook-cell:/c%3A/Users/flore/OneDrive/Escritorio/UCM/trabajo_programacion_avanzada_florentino/consulas_bicimad.ipynb#W0sZmlsZQ%3D%3D?line=0'>1</a>\u001b[0m \u001b[39mimport\u001b[39;00m \u001b[39mpandas\u001b[39;00m \u001b[39mas\u001b[39;00m \u001b[39mpd\u001b[39;00m\n\u001b[1;32m----> <a href='vscode-notebook-cell:/c%3A/Users/flore/OneDrive/Escritorio/UCM/trabajo_programacion_avanzada_florentino/consulas_bicimad.ipynb#W0sZmlsZQ%3D%3D?line=1'>2</a>\u001b[0m \u001b[39mfrom\u001b[39;00m \u001b[39mbicimad\u001b[39;00m \u001b[39mimport\u001b[39;00m bicimad\n\u001b[0;32m      <a href='vscode-notebook-cell:/c%3A/Users/flore/OneDrive/Escritorio/UCM/trabajo_programacion_avanzada_florentino/consulas_bicimad.ipynb#W0sZmlsZQ%3D%3D?line=2'>3</a>\u001b[0m bicimad \u001b[39m=\u001b[39m bicimad\u001b[39m.\u001b[39mBiciMad(month\u001b[39m=\u001b[39m\u001b[39m12\u001b[39m,year\u001b[39m=\u001b[39m\u001b[39m12\u001b[39m)\n",
      "File \u001b[1;32mc:\\Users\\flore\\OneDrive\\Escritorio\\UCM\\trabajo_programacion_avanzada_florentino\\bicimad\\__init__.py:4\u001b[0m\n\u001b[0;32m      1\u001b[0m \u001b[39m\"\"\"\u001b[39;00m\n\u001b[0;32m      2\u001b[0m \u001b[39mEste modulo sirve para...\u001b[39;00m\n\u001b[0;32m      3\u001b[0m \u001b[39m\"\"\"\u001b[39;00m\n\u001b[1;32m----> 4\u001b[0m \u001b[39mfrom\u001b[39;00m \u001b[39m.\u001b[39;00m\u001b[39mbicimad\u001b[39;00m \u001b[39mimport\u001b[39;00m BiciMad\n\u001b[0;32m      5\u001b[0m \u001b[39mfrom\u001b[39;00m \u001b[39mbicimad\u001b[39;00m \u001b[39mimport\u001b[39;00m UrlEMT\n",
      "File \u001b[1;32mc:\\Users\\flore\\OneDrive\\Escritorio\\UCM\\trabajo_programacion_avanzada_florentino\\bicimad\\bicimad.py:2\u001b[0m\n\u001b[0;32m      1\u001b[0m \u001b[39mimport\u001b[39;00m \u001b[39mpandas\u001b[39;00m \u001b[39mas\u001b[39;00m \u001b[39mpd\u001b[39;00m\n\u001b[1;32m----> 2\u001b[0m \u001b[39mfrom\u001b[39;00m \u001b[39murlemt\u001b[39;00m \u001b[39mimport\u001b[39;00m UrlEMT\n\u001b[0;32m      3\u001b[0m \u001b[39mclass\u001b[39;00m \u001b[39mBiciMad\u001b[39;00m:\n\u001b[0;32m      4\u001b[0m \u001b[39m    \u001b[39m\u001b[39m\"\"\"\u001b[39;00m\n\u001b[0;32m      5\u001b[0m \u001b[39m    La funcion init sirve para inicializar los atributos de la clase, en este caso me interesa actualizar\u001b[39;00m\n\u001b[0;32m      6\u001b[0m \u001b[39m    los enlaces validos que recoje de la web.\u001b[39;00m\n\u001b[0;32m      7\u001b[0m \u001b[39m    Los atributos year, month y data son privados\u001b[39;00m\n\u001b[0;32m      8\u001b[0m \u001b[39m    \"\"\"\u001b[39;00m\n",
      "\u001b[1;31mModuleNotFoundError\u001b[0m: No module named 'urlemt'"
     ]
    }
   ],
   "source": [
    "import pandas as pd\n",
    "from bicimad import bicimad\n",
    "bicimad = bicimad.BiciMad(month=12,year=12)"
   ]
  },
  {
   "cell_type": "markdown",
   "metadata": {},
   "source": [
    "### C1\n",
    "\n",
    "¿Cuántas bicicletas han sido desbloqueadas de una estación y no se bloquean en ninguna?"
   ]
  },
  {
   "cell_type": "code",
   "execution_count": 12,
   "metadata": {},
   "outputs": [
    {
     "ename": "AttributeError",
     "evalue": "module 'bicimad.bicimad' has no attribute 'loc'",
     "output_type": "error",
     "traceback": [
      "\u001b[1;31m---------------------------------------------------------------------------\u001b[0m",
      "\u001b[1;31mAttributeError\u001b[0m                            Traceback (most recent call last)",
      "\u001b[1;32mc:\\Users\\flore\\OneDrive\\Escritorio\\UCM\\trabajo_programacion_avanzada_florentino\\consulas_bicimad.ipynb Cell 3\u001b[0m line \u001b[0;36m3\n\u001b[0;32m      <a href='vscode-notebook-cell:/c%3A/Users/flore/OneDrive/Escritorio/UCM/trabajo_programacion_avanzada_florentino/consulas_bicimad.ipynb#W2sZmlsZQ%3D%3D?line=0'>1</a>\u001b[0m \u001b[39m# Sol\u001b[39;00m\n\u001b[0;32m      <a href='vscode-notebook-cell:/c%3A/Users/flore/OneDrive/Escritorio/UCM/trabajo_programacion_avanzada_florentino/consulas_bicimad.ipynb#W2sZmlsZQ%3D%3D?line=1'>2</a>\u001b[0m \u001b[39m# es una simple query\u001b[39;00m\n\u001b[1;32m----> <a href='vscode-notebook-cell:/c%3A/Users/flore/OneDrive/Escritorio/UCM/trabajo_programacion_avanzada_florentino/consulas_bicimad.ipynb#W2sZmlsZQ%3D%3D?line=2'>3</a>\u001b[0m bicimad\u001b[39m.\u001b[39;49mloc[(bicimad[\u001b[39m'\u001b[39m\u001b[39munlocktype\u001b[39m\u001b[39m'\u001b[39m] \u001b[39m==\u001b[39m \u001b[39m'\u001b[39m\u001b[39mSTATION\u001b[39m\u001b[39m'\u001b[39m) \u001b[39m&\u001b[39m (bicimad[\u001b[39m'\u001b[39m\u001b[39mlocktype\u001b[39m\u001b[39m'\u001b[39m] \u001b[39m!=\u001b[39m \u001b[39m'\u001b[39m\u001b[39mSTATION\u001b[39m\u001b[39m'\u001b[39m)]\n",
      "\u001b[1;31mAttributeError\u001b[0m: module 'bicimad.bicimad' has no attribute 'loc'"
     ]
    }
   ],
   "source": [
    "# Sol\n",
    "# es una simple query\n",
    "bicimad.loc[(bicimad['unlocktype'] == 'STATION') & (bicimad['locktype'] != 'STATION')]"
   ]
  },
  {
   "cell_type": "markdown",
   "metadata": {},
   "source": [
    "### C2\n",
    "\n",
    "Seleccionar solo las bicicletas del tipo de flota '1' . El nuevo dataframe se ha de llamar `regular_fleet`."
   ]
  },
  {
   "cell_type": "code",
   "execution_count": 6,
   "metadata": {},
   "outputs": [
    {
     "ename": "NameError",
     "evalue": "name 'bicimad' is not defined",
     "output_type": "error",
     "traceback": [
      "\u001b[1;31m---------------------------------------------------------------------------\u001b[0m",
      "\u001b[1;31mNameError\u001b[0m                                 Traceback (most recent call last)",
      "\u001b[1;32mc:\\Users\\flore\\OneDrive\\Escritorio\\UCM\\trabajo_programacion_avanzada_florentino\\consulas_bicimad.ipynb Cell 5\u001b[0m line \u001b[0;36m3\n\u001b[0;32m      <a href='vscode-notebook-cell:/c%3A/Users/flore/OneDrive/Escritorio/UCM/trabajo_programacion_avanzada_florentino/consulas_bicimad.ipynb#W6sZmlsZQ%3D%3D?line=0'>1</a>\u001b[0m \u001b[39m# Sol\u001b[39;00m\n\u001b[0;32m      <a href='vscode-notebook-cell:/c%3A/Users/flore/OneDrive/Escritorio/UCM/trabajo_programacion_avanzada_florentino/consulas_bicimad.ipynb#W6sZmlsZQ%3D%3D?line=1'>2</a>\u001b[0m \u001b[39m# simple query, no tiene muca explicaicon\u001b[39;00m\n\u001b[1;32m----> <a href='vscode-notebook-cell:/c%3A/Users/flore/OneDrive/Escritorio/UCM/trabajo_programacion_avanzada_florentino/consulas_bicimad.ipynb#W6sZmlsZQ%3D%3D?line=2'>3</a>\u001b[0m regular_fleet \u001b[39m=\u001b[39m bicimad[bicimad[\u001b[39m'\u001b[39m\u001b[39mfleet\u001b[39m\u001b[39m'\u001b[39m] \u001b[39m==\u001b[39m \u001b[39m1\u001b[39m]\n\u001b[0;32m      <a href='vscode-notebook-cell:/c%3A/Users/flore/OneDrive/Escritorio/UCM/trabajo_programacion_avanzada_florentino/consulas_bicimad.ipynb#W6sZmlsZQ%3D%3D?line=3'>4</a>\u001b[0m regular_fleet\n",
      "\u001b[1;31mNameError\u001b[0m: name 'bicimad' is not defined"
     ]
    }
   ],
   "source": [
    "# Sol\n",
    "# simple query, no tiene muca explicaicon\n",
    "regular_fleet = bicimad[bicimad['fleet'] == 1]\n",
    "regular_fleet"
   ]
  },
  {
   "cell_type": "markdown",
   "metadata": {},
   "source": [
    "### C3\n",
    "\n",
    "Crea una función llamada `day_time` para calcular las horas totales de uso de bicicletas por día del mes.\n",
    "La función recibe un dataframe y devuelve una Serie donde el índice es la fecha y el valor es el número de horas.\n",
    "\n",
    "Prueba la función anterior con el dataframe  `usos`.\n",
    "\n",
    "__Opcional:__ Dibuja un diagrama de barras con el resultado de la función `day_time` sobre el dataframe `usos`. Utiliza el módulo `matplotlib.pyplot`."
   ]
  },
  {
   "cell_type": "code",
   "execution_count": 7,
   "metadata": {},
   "outputs": [
    {
     "ename": "NameError",
     "evalue": "name 'pd' is not defined",
     "output_type": "error",
     "traceback": [
      "\u001b[1;31m---------------------------------------------------------------------------\u001b[0m",
      "\u001b[1;31mNameError\u001b[0m                                 Traceback (most recent call last)",
      "\u001b[1;32mc:\\Users\\flore\\OneDrive\\Escritorio\\UCM\\trabajo_programacion_avanzada_florentino\\consulas_bicimad.ipynb Cell 7\u001b[0m line \u001b[0;36m3\n\u001b[0;32m      <a href='vscode-notebook-cell:/c%3A/Users/flore/OneDrive/Escritorio/UCM/trabajo_programacion_avanzada_florentino/consulas_bicimad.ipynb#X12sZmlsZQ%3D%3D?line=0'>1</a>\u001b[0m \u001b[39m# Sol\u001b[39;00m\n\u001b[0;32m      <a href='vscode-notebook-cell:/c%3A/Users/flore/OneDrive/Escritorio/UCM/trabajo_programacion_avanzada_florentino/consulas_bicimad.ipynb#X12sZmlsZQ%3D%3D?line=1'>2</a>\u001b[0m \u001b[39mimport\u001b[39;00m \u001b[39mmatplotlib\u001b[39;00m\u001b[39m.\u001b[39;00m\u001b[39mpyplot\u001b[39;00m \u001b[39mas\u001b[39;00m \u001b[39mplt\u001b[39;00m\n\u001b[1;32m----> <a href='vscode-notebook-cell:/c%3A/Users/flore/OneDrive/Escritorio/UCM/trabajo_programacion_avanzada_florentino/consulas_bicimad.ipynb#X12sZmlsZQ%3D%3D?line=2'>3</a>\u001b[0m \u001b[39mdef\u001b[39;00m \u001b[39mday_time\u001b[39m(df) \u001b[39m-\u001b[39m\u001b[39m>\u001b[39m pd\u001b[39m.\u001b[39mSeries:\n\u001b[0;32m      <a href='vscode-notebook-cell:/c%3A/Users/flore/OneDrive/Escritorio/UCM/trabajo_programacion_avanzada_florentino/consulas_bicimad.ipynb#X12sZmlsZQ%3D%3D?line=3'>4</a>\u001b[0m     df\u001b[39m.\u001b[39mset_index(df[\u001b[39m'\u001b[39m\u001b[39mfecha\u001b[39m\u001b[39m'\u001b[39m])\n\u001b[0;32m      <a href='vscode-notebook-cell:/c%3A/Users/flore/OneDrive/Escritorio/UCM/trabajo_programacion_avanzada_florentino/consulas_bicimad.ipynb#X12sZmlsZQ%3D%3D?line=4'>5</a>\u001b[0m     array \u001b[39m=\u001b[39m df[\u001b[39m'\u001b[39m\u001b[39mtrip_minutes\u001b[39m\u001b[39m'\u001b[39m]\u001b[39m.\u001b[39mgroupby(df[\u001b[39m'\u001b[39m\u001b[39mfecha\u001b[39m\u001b[39m'\u001b[39m])\n",
      "\u001b[1;31mNameError\u001b[0m: name 'pd' is not defined"
     ]
    }
   ],
   "source": [
    "# Sol\n",
    "import matplotlib.pyplot as plt\n",
    "def day_time(df) -> pd.Series:\n",
    "    df.set_index(df['fecha'])\n",
    "    array = df['trip_minutes'].groupby(df['fecha'])\n",
    "    ser = pd.Series(array.sum())\n",
    "    return ser\n",
    "serie = day_time(bicimad)\n",
    "plt.bar(serie.index, serie,color ='maroon', width = 0.4)"
   ]
  },
  {
   "cell_type": "markdown",
   "metadata": {},
   "source": [
    "### C4\n",
    "\n",
    "Crea una función llamada `weekday_time` para calcular las horas totales de uso de bicicletas por día de la semana. La función recibe un dataframe y devuelve una Serie donde el índice es el día de la semana (L, M, X, J, V, S, D) y el valor es el número de horas.\n",
    "\n",
    "Prueba la función anterior con el dataframe usos."
   ]
  },
  {
   "cell_type": "code",
   "execution_count": null,
   "metadata": {},
   "outputs": [],
   "source": [
    "# Solución\n",
    "def weekday_time(dataframe):\n",
    "    dataframe['fecha'] = pd.to_datetime(dataframe['fecha'])\n",
    "    hours_per_day = dataframe.groupby(dataframe['fecha'].dt.strftime('%A'))['trip_minutes'].sum() / 60\n",
    "    convert_days = {\n",
    "        'Monday': 'L',\n",
    "        'Tuesday': 'M',\n",
    "        'Wednesday': 'X',\n",
    "        'Thursday': 'J',\n",
    "        'Friday': 'V',\n",
    "        'Saturday': 'S',\n",
    "        'Sunday': 'D'\n",
    "    }\n",
    "    print(type(hours_per_day))\n",
    "    hours_per_day.index = hours_per_day.index.map(convert_days)\n",
    "    return hours_per_day\n",
    "\n",
    "result = weekday_time(bicimad)\n",
    "result"
   ]
  },
  {
   "cell_type": "markdown",
   "metadata": {},
   "source": [
    "### C5\n",
    "\n",
    "Crea una función llamada `total_usage_day` para calcular el número total de usos de bicicletas por día del mes. La función recibe un dataframe y devuelve una Serie donde el índice es la fecha y el valor es el número de usos.\n",
    "\n",
    "Prueba la función anterior con el dataframe usos."
   ]
  },
  {
   "cell_type": "code",
   "execution_count": null,
   "metadata": {},
   "outputs": [],
   "source": [
    "# Sol\n",
    "def total_usage_day(df) -> pd.Series:\n",
    "    df['fecha'] = pd.to_datetime(df['fecha'])\n",
    "    cont = df.groupby('idBike').size()\n",
    "    return cont\n",
    "c5 = total_usage_day(bicimad)\n",
    "c5"
   ]
  },
  {
   "cell_type": "markdown",
   "metadata": {},
   "source": [
    "### C6\n",
    "\n",
    "Calcular el total de usos por fecha y estación de desbloqueo. Como la fecha está en el índice y la estación de desbloqueo es una columna, lo mejor es agrupar por la columna `station_unlock` y  un objeto `Grouper` de frecuencia diaria (1D).\n",
    "\n",
    "A continuación, se muestra un ejemplo del funcionamiento de la función Grouper de pandas:\n",
    "```\n",
    ">>> df\n",
    "             ID  Price\n",
    "2000-01-02   0     10\n",
    "2000-01-02   1     20\n",
    "2000-01-09   2     30\n",
    "2000-01-16   3     40\n",
    "\n",
    "# Grouper con frecuencia semanal (1W)\n",
    ">>> df.groupby(pd.Grouper(freq=\"1W\")).mean()\n",
    "               ID  Price\n",
    "\n",
    "2000-01-02    0.5   15.0\n",
    "2000-01-09    2.0   30.0\n",
    "2000-01-16    3.0   40.0\n",
    "```"
   ]
  },
  {
   "cell_type": "code",
   "execution_count": null,
   "metadata": {},
   "outputs": [],
   "source": [
    "# primero es poner la FECHA como indice\n",
    "bicimad.set_index('fecha',inplace=True)"
   ]
  },
  {
   "cell_type": "code",
   "execution_count": null,
   "metadata": {},
   "outputs": [],
   "source": [
    "bicimad['station_unlock'].groupby(pd.Grouper(freq=\"1D\")).count()"
   ]
  },
  {
   "cell_type": "markdown",
   "metadata": {},
   "source": [
    "### C7\n",
    "\n",
    "Se quiere averiguar la dirección de las estaciones de desbloqueo que a lo largo del mes han tenido un mayor número de viajes. Crear una función llamada `most_popular_stations` que calcule dicho dato. El argumento de la función es un dataframe y devuelve un conjunto con la dirección de las estaciones."
   ]
  },
  {
   "cell_type": "code",
   "execution_count": null,
   "metadata": {},
   "outputs": [],
   "source": [
    "# Sol\n",
    "def most_popular_stations(df) -> set():\n",
    "    # se agrupan las estaciones y se cuentan el numero de estaciones\n",
    "    station_counts = df.groupby('address_unlock').size()\n",
    "    # Se sacan el maximo de viajes\n",
    "    max_trip_count = station_counts.max()\n",
    "    # Se busca las estaciones con el maximo numero de viajes\n",
    "    most_popular_stations = station_counts[station_counts == max_trip_count].index\n",
    "    # Se devuelve un conjunto\n",
    "    return set(most_popular_stations)\n",
    "\n",
    "most_pop_station = most_popular_stations(bicimad)\n",
    "most_pop_station"
   ]
  },
  {
   "cell_type": "markdown",
   "metadata": {},
   "source": [
    "### C8\n",
    "\n",
    "Se quiere averiguar el  número de usos de las estaciones de desbloqueo que a lo largo del mes ha tenido un mayor número de viajes. Crear una función llamada `usage_from_most_popular_station` que calcule dicho dato. El argumento de la función es un dataframe y devuelve un entero."
   ]
  },
  {
   "cell_type": "code",
   "execution_count": 3,
   "metadata": {},
   "outputs": [
    {
     "ename": "NameError",
     "evalue": "name 'bicimad' is not defined",
     "output_type": "error",
     "traceback": [
      "\u001b[1;31m---------------------------------------------------------------------------\u001b[0m",
      "\u001b[1;31mNameError\u001b[0m                                 Traceback (most recent call last)",
      "\u001b[1;32mc:\\Users\\flore\\OneDrive\\Escritorio\\UCM\\trabajo_programacion_avanzada_florentino\\consulas_bicimad.ipynb Cell 18\u001b[0m line \u001b[0;36m9\n\u001b[0;32m      <a href='vscode-notebook-cell:/c%3A/Users/flore/OneDrive/Escritorio/UCM/trabajo_programacion_avanzada_florentino/consulas_bicimad.ipynb#X23sZmlsZQ%3D%3D?line=5'>6</a>\u001b[0m     max_trip_count \u001b[39m=\u001b[39m station_counts\u001b[39m.\u001b[39mmax()\n\u001b[0;32m      <a href='vscode-notebook-cell:/c%3A/Users/flore/OneDrive/Escritorio/UCM/trabajo_programacion_avanzada_florentino/consulas_bicimad.ipynb#X23sZmlsZQ%3D%3D?line=6'>7</a>\u001b[0m     \u001b[39mreturn\u001b[39;00m max_trip_count\n\u001b[1;32m----> <a href='vscode-notebook-cell:/c%3A/Users/flore/OneDrive/Escritorio/UCM/trabajo_programacion_avanzada_florentino/consulas_bicimad.ipynb#X23sZmlsZQ%3D%3D?line=8'>9</a>\u001b[0m usage \u001b[39m=\u001b[39m usage_from_most_popular_station(bicimad)\n\u001b[0;32m     <a href='vscode-notebook-cell:/c%3A/Users/flore/OneDrive/Escritorio/UCM/trabajo_programacion_avanzada_florentino/consulas_bicimad.ipynb#X23sZmlsZQ%3D%3D?line=9'>10</a>\u001b[0m usage\n",
      "\u001b[1;31mNameError\u001b[0m: name 'bicimad' is not defined"
     ]
    }
   ],
   "source": [
    "# Sol\n",
    "def usage_from_most_popular_station(df) -> int:\n",
    "    # se agrupan las estaciones y se cuenta el numero de viajes\n",
    "    station_counts = df.groupby('address_unlock').size()\n",
    "    # Encontrar el maximo\n",
    "    max_trip_count = station_counts.max()\n",
    "    return max_trip_count\n",
    "\n",
    "usage = usage_from_most_popular_station(bicimad)\n",
    "usage"
   ]
  }
 ],
 "metadata": {
  "kernelspec": {
   "display_name": "Python 3",
   "language": "python",
   "name": "python3"
  },
  "language_info": {
   "codemirror_mode": {
    "name": "ipython",
    "version": 3
   },
   "file_extension": ".py",
   "mimetype": "text/x-python",
   "name": "python",
   "nbconvert_exporter": "python",
   "pygments_lexer": "ipython3",
   "version": "3.9.13"
  }
 },
 "nbformat": 4,
 "nbformat_minor": 2
}
