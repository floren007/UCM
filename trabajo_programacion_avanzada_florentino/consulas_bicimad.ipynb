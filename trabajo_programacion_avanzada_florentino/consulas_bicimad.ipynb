{
 "cells": [
  {
   "cell_type": "code",
   "execution_count": 1,
   "metadata": {},
   "outputs": [
    {
     "name": "stdout",
     "output_type": "stream",
     "text": [
      "Coincidió esta URL: /getattachment/34b933e4-4756-4fed-8d5b-2d44f7503ccc/trips_22_12_December-csv.aspx\n",
      "Coincidió esta URL: /getattachment/34b933e4-4756-4fed-8d5b-2d44f7503ccc/trips_22_12_December-csv.aspx\n",
      "year                                                                     12\n",
      "month                                                                    22\n",
      "total_uses                                                           246570\n",
      "total_time                                                           115901\n",
      "most_popular_station                                                    ...\n",
      "uses_from_most_popular                                                 3144\n",
      "dtype: object\n"
     ]
    },
    {
     "ename": "ImportError",
     "evalue": "cannot import name 'Bicimad' from 'bicimad' (c:\\Users\\flore\\OneDrive\\Escritorio\\UCM\\trabajo_programacion_avanzada_florentino\\bicimad.py)",
     "output_type": "error",
     "traceback": [
      "\u001b[1;31m---------------------------------------------------------------------------\u001b[0m",
      "\u001b[1;31mImportError\u001b[0m                               Traceback (most recent call last)",
      "\u001b[1;32mc:\\Users\\flore\\OneDrive\\Escritorio\\UCM\\trabajo_programacion_avanzada_florentino\\testeo_jupyter.ipynb Cell 1\u001b[0m line \u001b[0;36m1\n\u001b[1;32m----> <a href='vscode-notebook-cell:/c%3A/Users/flore/OneDrive/Escritorio/UCM/trabajo_programacion_avanzada_florentino/testeo_jupyter.ipynb#W0sZmlsZQ%3D%3D?line=0'>1</a>\u001b[0m \u001b[39mfrom\u001b[39;00m \u001b[39mbicimad\u001b[39;00m \u001b[39mimport\u001b[39;00m Bicimad\n\u001b[0;32m      <a href='vscode-notebook-cell:/c%3A/Users/flore/OneDrive/Escritorio/UCM/trabajo_programacion_avanzada_florentino/testeo_jupyter.ipynb#W0sZmlsZQ%3D%3D?line=2'>3</a>\u001b[0m \u001b[39m# Create an instance of Bicimad\u001b[39;00m\n\u001b[0;32m      <a href='vscode-notebook-cell:/c%3A/Users/flore/OneDrive/Escritorio/UCM/trabajo_programacion_avanzada_florentino/testeo_jupyter.ipynb#W0sZmlsZQ%3D%3D?line=3'>4</a>\u001b[0m bicimad \u001b[39m=\u001b[39m Bicimad()\n",
      "\u001b[1;31mImportError\u001b[0m: cannot import name 'Bicimad' from 'bicimad' (c:\\Users\\flore\\OneDrive\\Escritorio\\UCM\\trabajo_programacion_avanzada_florentino\\bicimad.py)"
     ]
    }
   ],
   "source": [
    "from bicimad import Bicimad\n",
    "\n",
    "# Create an instance of Bicimad\n",
    "bicimad = Bicimad()\n",
    "\n",
    "# Use bicimad to perform queries\n",
    "result = bicimad.method1()"
   ]
  }
 ],
 "metadata": {
  "kernelspec": {
   "display_name": "Python 3",
   "language": "python",
   "name": "python3"
  },
  "language_info": {
   "codemirror_mode": {
    "name": "ipython",
    "version": 3
   },
   "file_extension": ".py",
   "mimetype": "text/x-python",
   "name": "python",
   "nbconvert_exporter": "python",
   "pygments_lexer": "ipython3",
   "version": "3.9.13"
  }
 },
 "nbformat": 4,
 "nbformat_minor": 2
}
